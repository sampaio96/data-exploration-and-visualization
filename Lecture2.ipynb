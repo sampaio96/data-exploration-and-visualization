{
 "cells": [
  {
   "cell_type": "code",
   "execution_count": 3,
   "metadata": {
    "collapsed": true,
    "deletable": true,
    "editable": true
   },
   "outputs": [],
   "source": [
    "areas = {'kitchen':15,'living room':3}"
   ]
  },
  {
   "cell_type": "code",
   "execution_count": 4,
   "metadata": {
    "collapsed": false,
    "deletable": true,
    "editable": true
   },
   "outputs": [
    {
     "data": {
      "text/plain": [
       "{'kitchen': 15, 'living room': 3}"
      ]
     },
     "execution_count": 4,
     "metadata": {},
     "output_type": "execute_result"
    }
   ],
   "source": [
    "areas"
   ]
  },
  {
   "cell_type": "code",
   "execution_count": 5,
   "metadata": {
    "collapsed": false,
    "deletable": true,
    "editable": true
   },
   "outputs": [
    {
     "data": {
      "text/plain": [
       "['living room', 'kitchen']"
      ]
     },
     "execution_count": 5,
     "metadata": {},
     "output_type": "execute_result"
    }
   ],
   "source": [
    "areas.keys()"
   ]
  },
  {
   "cell_type": "code",
   "execution_count": 6,
   "metadata": {
    "collapsed": false,
    "deletable": true,
    "editable": true
   },
   "outputs": [
    {
     "data": {
      "text/plain": [
       "False"
      ]
     },
     "execution_count": 6,
     "metadata": {},
     "output_type": "execute_result"
    }
   ],
   "source": [
    "'fresh_paint' in areas"
   ]
  },
  {
   "cell_type": "code",
   "execution_count": 7,
   "metadata": {
    "collapsed": false,
    "deletable": true,
    "editable": true
   },
   "outputs": [
    {
     "data": {
      "text/plain": [
       "True"
      ]
     },
     "execution_count": 7,
     "metadata": {},
     "output_type": "execute_result"
    }
   ],
   "source": [
    "'living room' in areas"
   ]
  },
  {
   "cell_type": "code",
   "execution_count": 8,
   "metadata": {
    "collapsed": false,
    "deletable": true,
    "editable": true
   },
   "outputs": [
    {
     "data": {
      "text/plain": [
       "False"
      ]
     },
     "execution_count": 8,
     "metadata": {},
     "output_type": "execute_result"
    }
   ],
   "source": [
    "15 in areas"
   ]
  },
  {
   "cell_type": "code",
   "execution_count": 19,
   "metadata": {
    "collapsed": false,
    "deletable": true,
    "editable": true
   },
   "outputs": [],
   "source": [
    "import json"
   ]
  },
  {
   "cell_type": "code",
   "execution_count": null,
   "metadata": {
    "collapsed": true,
    "deletable": true,
    "editable": true
   },
   "outputs": [],
   "source": [
    "from urllib2 import urlopen"
   ]
  },
  {
   "cell_type": "code",
   "execution_count": 22,
   "metadata": {
    "collapsed": false,
    "deletable": true,
    "editable": true
   },
   "outputs": [],
   "source": [
    "url = \"https://maps.googleapis.com/maps/api/geocode/json?address=\"\n",
    "adr_part = \"WestCo,+Wesleyan+University,+Middletown,+CT\"\n",
    "\n",
    "rq = urllib2.Request(url=url+adr_part)\n",
    "f = urllib2.urlopen(rq)"
   ]
  },
  {
   "cell_type": "code",
   "execution_count": 23,
   "metadata": {
    "collapsed": false,
    "deletable": true,
    "editable": true
   },
   "outputs": [
    {
     "data": {
      "text/plain": [
       "instance"
      ]
     },
     "execution_count": 23,
     "metadata": {},
     "output_type": "execute_result"
    }
   ],
   "source": [
    "type(f)"
   ]
  },
  {
   "cell_type": "code",
   "execution_count": 24,
   "metadata": {
    "collapsed": false,
    "deletable": true,
    "editable": true
   },
   "outputs": [
    {
     "data": {
      "text/plain": [
       "200"
      ]
     },
     "execution_count": 24,
     "metadata": {},
     "output_type": "execute_result"
    }
   ],
   "source": [
    "f.getcode()"
   ]
  },
  {
   "cell_type": "code",
   "execution_count": 25,
   "metadata": {
    "collapsed": true,
    "deletable": true,
    "editable": true
   },
   "outputs": [],
   "source": [
    "w = f.read().decode('utf-8')"
   ]
  },
  {
   "cell_type": "code",
   "execution_count": 26,
   "metadata": {
    "collapsed": false,
    "deletable": true,
    "editable": true
   },
   "outputs": [
    {
     "data": {
      "text/plain": [
       "unicode"
      ]
     },
     "execution_count": 26,
     "metadata": {},
     "output_type": "execute_result"
    }
   ],
   "source": [
    "type(w)"
   ]
  },
  {
   "cell_type": "code",
   "execution_count": 27,
   "metadata": {
    "collapsed": true,
    "deletable": true,
    "editable": true
   },
   "outputs": [],
   "source": [
    "s = json.loads(w)"
   ]
  },
  {
   "cell_type": "code",
   "execution_count": 28,
   "metadata": {
    "collapsed": false,
    "deletable": true,
    "editable": true
   },
   "outputs": [
    {
     "data": {
      "text/plain": [
       "dict"
      ]
     },
     "execution_count": 28,
     "metadata": {},
     "output_type": "execute_result"
    }
   ],
   "source": [
    "type(s)"
   ]
  },
  {
   "cell_type": "code",
   "execution_count": 29,
   "metadata": {
    "collapsed": false,
    "deletable": true,
    "editable": true,
    "scrolled": true
   },
   "outputs": [
    {
     "data": {
      "text/plain": [
       "[u'status', u'results']"
      ]
     },
     "execution_count": 29,
     "metadata": {},
     "output_type": "execute_result"
    }
   ],
   "source": [
    "s.keys()"
   ]
  },
  {
   "cell_type": "code",
   "execution_count": 32,
   "metadata": {
    "collapsed": false,
    "deletable": true,
    "editable": true
   },
   "outputs": [
    {
     "data": {
      "text/plain": [
       "u'18 Foss Hill Dr, Middletown, CT 06457, USA'"
      ]
     },
     "execution_count": 32,
     "metadata": {},
     "output_type": "execute_result"
    }
   ],
   "source": [
    "s['results'][0]['formatted_address']"
   ]
  },
  {
   "cell_type": "code",
   "execution_count": 34,
   "metadata": {
    "collapsed": false,
    "deletable": true,
    "editable": true
   },
   "outputs": [],
   "source": [
    "url = \"https://api.spotify.com/v1/search?\"\n",
    "adr_part = \"type=track&limit=50&q=artist:MGMT\"\n",
    "\n",
    "rq = urllib2.Request(url=url+adr_part)\n",
    "f = urllib2.urlopen(rq)\n",
    "w = f.read().decode('utf-8')\n",
    "s = json.loads(w)"
   ]
  },
  {
   "cell_type": "code",
   "execution_count": 35,
   "metadata": {
    "collapsed": false,
    "deletable": true,
    "editable": true
   },
   "outputs": [
    {
     "data": {
      "text/plain": [
       "[u'tracks']"
      ]
     },
     "execution_count": 35,
     "metadata": {},
     "output_type": "execute_result"
    }
   ],
   "source": [
    "s.keys()"
   ]
  },
  {
   "cell_type": "code",
   "execution_count": 37,
   "metadata": {
    "collapsed": false,
    "deletable": true,
    "editable": true
   },
   "outputs": [
    {
     "data": {
      "text/plain": [
       "[u'items', u'next', u'href', u'limit', u'offset', u'total', u'previous']"
      ]
     },
     "execution_count": 37,
     "metadata": {},
     "output_type": "execute_result"
    }
   ],
   "source": [
    "s['tracks'].keys()"
   ]
  },
  {
   "cell_type": "code",
   "execution_count": 41,
   "metadata": {
    "collapsed": false,
    "deletable": true,
    "editable": true
   },
   "outputs": [
    {
     "data": {
      "text/plain": [
       "[u'album',\n",
       " u'name',\n",
       " u'uri',\n",
       " u'external_urls',\n",
       " u'popularity',\n",
       " u'explicit',\n",
       " u'preview_url',\n",
       " u'track_number',\n",
       " u'disc_number',\n",
       " u'href',\n",
       " u'artists',\n",
       " u'duration_ms',\n",
       " u'external_ids',\n",
       " u'type',\n",
       " u'id',\n",
       " u'available_markets']"
      ]
     },
     "execution_count": 41,
     "metadata": {},
     "output_type": "execute_result"
    }
   ],
   "source": [
    "s['tracks']['items'][0].keys()"
   ]
  },
  {
   "cell_type": "code",
   "execution_count": 47,
   "metadata": {
    "collapsed": false,
    "deletable": true,
    "editable": true
   },
   "outputs": [
    {
     "data": {
      "text/plain": [
       "[u'album',\n",
       " u'name',\n",
       " u'uri',\n",
       " u'external_urls',\n",
       " u'popularity',\n",
       " u'explicit',\n",
       " u'preview_url',\n",
       " u'track_number',\n",
       " u'disc_number',\n",
       " u'href',\n",
       " u'artists',\n",
       " u'duration_ms',\n",
       " u'external_ids',\n",
       " u'type',\n",
       " u'id',\n",
       " u'available_markets']"
      ]
     },
     "execution_count": 47,
     "metadata": {},
     "output_type": "execute_result"
    }
   ],
   "source": [
    "s['tracks']['items'][0].keys()"
   ]
  },
  {
   "cell_type": "code",
   "execution_count": 49,
   "metadata": {
    "collapsed": false,
    "deletable": true,
    "editable": true
   },
   "outputs": [
    {
     "data": {
      "text/plain": [
       "u'Pursuit Of Happiness - Extended Steve Aoki Remix (Explicit)'"
      ]
     },
     "execution_count": 49,
     "metadata": {},
     "output_type": "execute_result"
    }
   ],
   "source": [
    "s['tracks']['items'][0]['name']"
   ]
  },
  {
   "cell_type": "code",
   "execution_count": 50,
   "metadata": {
    "collapsed": false,
    "deletable": true,
    "editable": true
   },
   "outputs": [
    {
     "data": {
      "text/plain": [
       "71"
      ]
     },
     "execution_count": 50,
     "metadata": {},
     "output_type": "execute_result"
    }
   ],
   "source": [
    "s['tracks']['items'][0]['popularity']"
   ]
  },
  {
   "cell_type": "code",
   "execution_count": 51,
   "metadata": {
    "collapsed": false,
    "deletable": true,
    "editable": true
   },
   "outputs": [
    {
     "data": {
      "text/plain": [
       "51"
      ]
     },
     "execution_count": 51,
     "metadata": {},
     "output_type": "execute_result"
    }
   ],
   "source": [
    "s['tracks']['items'][10]['popularity']"
   ]
  },
  {
   "cell_type": "code",
   "execution_count": 52,
   "metadata": {
    "collapsed": false,
    "deletable": true,
    "editable": true
   },
   "outputs": [
    {
     "data": {
      "text/plain": [
       "u'Of Moons, Birds & Monsters'"
      ]
     },
     "execution_count": 52,
     "metadata": {},
     "output_type": "execute_result"
    }
   ],
   "source": [
    "s['tracks']['items'][10]['name']"
   ]
  },
  {
   "cell_type": "code",
   "execution_count": 54,
   "metadata": {
    "collapsed": false,
    "deletable": true,
    "editable": true
   },
   "outputs": [
    {
     "name": "stdout",
     "output_type": "stream",
     "text": [
      "[u'Pursuit Of Happiness - Extended Steve Aoki Remix (Explicit)', u'Electric Feel', u'Pursuit Of Happiness (nightmare)', u'Kids', u'Time to Pretend', u'Pursuit Of Happiness (nightmare)', u'Congratulations', u'Weekend Wars', u'Electric Feel - Justice Remix', u'The Youth', u'Of Moons, Birds & Monsters', u'Pieces of What', u'Alien Days', u'Time To Pretend', u'The Handshake', u'Flash Delirium', u'Future Reflections', u'4th Dimensional Transition', u'Indie Rokkers', u\"It's Working\", u'Pursuit Of Happiness (nightmare) - Album Version (Edited)', u'Song for Dan Treacy', u'Cool Song No. 2', u\"Someone's Missing\", u'I Found a Whistle', u'Siberian Breaks', u'Brian Eno', u'Kids', u'Mystery Disease', u'Your Life Is a Lie', u'Introspection', u'Call from the Bank (feat. Mgmt)', u'Destrokk', u'Love Always Remains', u'Diva - Karmatronic Club Remix', u'Astro-Mancy', u'Plenty Of Girls In The Sea', u\"Lady Dada's Nightmare\", u'A Good Sadness', u'I Love You Too, Death', u'Boogie Down', u'An Orphan Of Fortune', u'All We Ever Wanted Was Everything', u'Congratulations - Erol Alkan Remix', u'Kids - Soulwax Mix', u'Call from the Bank (feat. Mgmt)', u'Kids - Radio Mix [Edit]', u'Future Games', u'Time to Pretend - Super Clean Version', u'Your Life Is a Lie']\n"
     ]
    }
   ],
   "source": [
    "t_name = []\n",
    "for k in range(0,50):\n",
    "    t_name.append(s['tracks']['items'][k]['name'])\n",
    "    \n",
    "print(t_name)"
   ]
  },
  {
   "cell_type": "code",
   "execution_count": 58,
   "metadata": {
    "collapsed": false,
    "deletable": true,
    "editable": true
   },
   "outputs": [],
   "source": [
    "import pandas as pd"
   ]
  },
  {
   "cell_type": "code",
   "execution_count": 60,
   "metadata": {
    "collapsed": false,
    "deletable": true,
    "editable": true
   },
   "outputs": [],
   "source": [
    "df = pd.read_csv(\"/Users/gsampaio/Downloads/Towed_Cars_for_the_Past_30_Days.csv\")"
   ]
  },
  {
   "cell_type": "raw",
   "metadata": {
    "collapsed": true,
    "deletable": true,
    "editable": true
   },
   "source": [
    "df.tail(5)"
   ]
  },
  {
   "cell_type": "code",
   "execution_count": 61,
   "metadata": {
    "collapsed": false,
    "deletable": true,
    "editable": true
   },
   "outputs": [
    {
     "data": {
      "text/plain": [
       "0        CT\n",
       "1        CT\n",
       "2        CT\n",
       "3        NY\n",
       "4        CT\n",
       "5        CT\n",
       "6        NY\n",
       "7        CT\n",
       "8        CT\n",
       "9        CT\n",
       "10       CT\n",
       "11       CT\n",
       "12       CT\n",
       "13       CT\n",
       "14      NaN\n",
       "15      NaN\n",
       "16      NaN\n",
       "17      NaN\n",
       "18       CT\n",
       "19       CT\n",
       "20       CT\n",
       "21       CT\n",
       "22       CT\n",
       "23       CT\n",
       "24       CT\n",
       "25       CT\n",
       "26       CT\n",
       "27       CT\n",
       "28       CT\n",
       "29       NY\n",
       "       ... \n",
       "1109     CT\n",
       "1110     NJ\n",
       "1111     CT\n",
       "1112     CT\n",
       "1113     CT\n",
       "1114     CT\n",
       "1115     CT\n",
       "1116     CT\n",
       "1117     MA\n",
       "1118     CT\n",
       "1119     CT\n",
       "1120     CT\n",
       "1121     ME\n",
       "1122     CT\n",
       "1123     CT\n",
       "1124    NaN\n",
       "1125     CT\n",
       "1126     CT\n",
       "1127    NaN\n",
       "1128     CT\n",
       "1129     CT\n",
       "1130     CT\n",
       "1131    NaN\n",
       "1132     CT\n",
       "1133     CT\n",
       "1134     MA\n",
       "1135     CT\n",
       "1136     GA\n",
       "1137     CT\n",
       "1138     NY\n",
       "Name: Vehicle_State, dtype: object"
      ]
     },
     "execution_count": 61,
     "metadata": {},
     "output_type": "execute_result"
    }
   ],
   "source": [
    "df['Vehicle_State']"
   ]
  },
  {
   "cell_type": "code",
   "execution_count": 62,
   "metadata": {
    "collapsed": false,
    "deletable": true,
    "editable": true
   },
   "outputs": [
    {
     "data": {
      "text/plain": [
       "pandas.core.series.Series"
      ]
     },
     "execution_count": 62,
     "metadata": {},
     "output_type": "execute_result"
    }
   ],
   "source": [
    "type(df['Vehicle_State'])"
   ]
  },
  {
   "cell_type": "code",
   "execution_count": 63,
   "metadata": {
    "collapsed": false
   },
   "outputs": [
    {
     "data": {
      "text/plain": [
       "pandas.core.frame.DataFrame"
      ]
     },
     "execution_count": 63,
     "metadata": {},
     "output_type": "execute_result"
    }
   ],
   "source": [
    "type(df[['Vehicle_State']])"
   ]
  },
  {
   "cell_type": "code",
   "execution_count": 65,
   "metadata": {
    "collapsed": false
   },
   "outputs": [],
   "source": [
    "is_toyota = df.Make == \"TOYOTA\""
   ]
  },
  {
   "cell_type": "code",
   "execution_count": 67,
   "metadata": {
    "collapsed": false
   },
   "outputs": [
    {
     "data": {
      "text/plain": [
       "97"
      ]
     },
     "execution_count": 67,
     "metadata": {},
     "output_type": "execute_result"
    }
   ],
   "source": [
    "is_toyota.sum()"
   ]
  },
  {
   "cell_type": "code",
   "execution_count": 76,
   "metadata": {
    "collapsed": true
   },
   "outputs": [],
   "source": [
    "hist(df.Vehicle_Year[(df.Make == \"TOYOTA\")])"
   ]
  },
  {
   "cell_type": "code",
   "execution_count": 78,
   "metadata": {
    "collapsed": false
   },
   "outputs": [],
   "source": [
    "t_name = []\n",
    "t_pop = []\n",
    "for k in range(0, len(s['tracks']['items'])):\n",
    "    t_name.append(s['tracks']['items'][k]['name'])\n",
    "    t_pop = t_pop + [s['tracks']['items'][k]['popularity']]"
   ]
  },
  {
   "cell_type": "code",
   "execution_count": 79,
   "metadata": {
    "collapsed": true
   },
   "outputs": [],
   "source": [
    "my_dict = {'name': t_name, 'popularity': t_pop}"
   ]
  },
  {
   "cell_type": "code",
   "execution_count": 80,
   "metadata": {
    "collapsed": false
   },
   "outputs": [
    {
     "data": {
      "text/plain": [
       "50"
      ]
     },
     "execution_count": 80,
     "metadata": {},
     "output_type": "execute_result"
    }
   ],
   "source": [
    "len(t_name)"
   ]
  },
  {
   "cell_type": "code",
   "execution_count": null,
   "metadata": {
    "collapsed": true
   },
   "outputs": [],
   "source": [
    "my_dict"
   ]
  }
 ],
 "metadata": {
  "kernelspec": {
   "display_name": "Python 2",
   "language": "python",
   "name": "python2"
  },
  "language_info": {
   "codemirror_mode": {
    "name": "ipython",
    "version": 2
   },
   "file_extension": ".py",
   "mimetype": "text/x-python",
   "name": "python",
   "nbconvert_exporter": "python",
   "pygments_lexer": "ipython2",
   "version": "2.7.10"
  }
 },
 "nbformat": 4,
 "nbformat_minor": 2
}
