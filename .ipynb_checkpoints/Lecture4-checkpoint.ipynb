{
 "cells": [
  {
   "cell_type": "code",
   "execution_count": 1,
   "metadata": {},
   "outputs": [
    {
     "name": "stdout",
     "output_type": "stream",
     "text": [
      "Populating the interactive namespace from numpy and matplotlib\n"
     ]
    }
   ],
   "source": [
    "%pylab inline"
   ]
  },
  {
   "cell_type": "code",
   "execution_count": 2,
   "metadata": {
    "collapsed": true
   },
   "outputs": [],
   "source": [
    "import pandas as pd"
   ]
  },
  {
   "cell_type": "code",
   "execution_count": 3,
   "metadata": {
    "collapsed": true
   },
   "outputs": [],
   "source": [
    "cr = pd.read_csv(\"Hartford_Police_Incidents_2016.csv\")"
   ]
  },
  {
   "cell_type": "code",
   "execution_count": 4,
   "metadata": {
    "scrolled": true
   },
   "outputs": [
    {
     "name": "stdout",
     "output_type": "stream",
     "text": [
      "<class 'pandas.core.frame.DataFrame'>\n",
      "RangeIndex: 34585 entries, 0 to 34584\n",
      "Data columns (total 12 columns):\n",
      "Case_Number          34585 non-null int64\n",
      "Time_24HR            34585 non-null int64\n",
      "Address              34585 non-null object\n",
      "UCR_1_Category       34585 non-null object\n",
      "UCR_1_Description    34585 non-null object\n",
      "UCR_1_Code           34585 non-null int64\n",
      "UCR_2_Category       17642 non-null object\n",
      "UCR_2_Description    17629 non-null object\n",
      "UCR_2_Code           34585 non-null int64\n",
      "Neighborhood         34585 non-null object\n",
      "geom                 34585 non-null object\n",
      "p_date               34585 non-null object\n",
      "dtypes: int64(4), object(8)\n",
      "memory usage: 3.2+ MB\n"
     ]
    }
   ],
   "source": [
    "cr.info()"
   ]
  },
  {
   "cell_type": "code",
   "execution_count": 5,
   "metadata": {
    "scrolled": true
   },
   "outputs": [
    {
     "data": {
      "text/plain": [
       "pandas.core.series.Series"
      ]
     },
     "execution_count": 5,
     "metadata": {},
     "output_type": "execute_result"
    }
   ],
   "source": [
    "type(cr[['Case_Number']])"
   ]
  },
  {
   "cell_type": "code",
   "execution_count": 6,
   "metadata": {},
   "outputs": [
    {
     "data": {
      "text/plain": [
       "pandas.core.series.Series"
      ]
     },
     "execution_count": 6,
     "metadata": {},
     "output_type": "execute_result"
    }
   ],
   "source": [
    "type(cr['Case_Number'])"
   ]
  },
  {
   "cell_type": "code",
   "execution_count": 9,
   "metadata": {},
   "outputs": [
    {
     "data": {
      "text/plain": [
       "pandas.core.frame.DataFrame"
      ]
     },
     "execution_count": 9,
     "metadata": {},
     "output_type": "execute_result"
    }
   ],
   "source": [
    "type(cr[['Case_Number', 'Address']])"
   ]
  },
  {
   "cell_type": "code",
   "execution_count": 10,
   "metadata": {
    "collapsed": true
   },
   "outputs": [],
   "source": [
    "wt = pd.read_csv(\"BDL_weather_2016.csv\")"
   ]
  },
  {
   "cell_type": "code",
   "execution_count": 11,
   "metadata": {},
   "outputs": [
    {
     "name": "stdout",
     "output_type": "stream",
     "text": [
      "<class 'pandas.core.frame.DataFrame'>\n",
      "RangeIndex: 366 entries, 0 to 365\n",
      "Data columns (total 12 columns):\n",
      "STATION         366 non-null object\n",
      "STATION_NAME    366 non-null object\n",
      "DATE            366 non-null int64\n",
      "PRCP            366 non-null float64\n",
      "SNWD            366 non-null float64\n",
      "SNOW            366 non-null float64\n",
      "TAVG            366 non-null int64\n",
      "TMAX            366 non-null int64\n",
      "TMIN            366 non-null int64\n",
      "AWND            366 non-null float64\n",
      "WDF2            366 non-null int64\n",
      "WSF2            366 non-null float64\n",
      "dtypes: float64(5), int64(5), object(2)\n",
      "memory usage: 34.4+ KB\n"
     ]
    }
   ],
   "source": [
    "wt.info()"
   ]
  },
  {
   "cell_type": "code",
   "execution_count": 13,
   "metadata": {},
   "outputs": [
    {
     "data": {
      "text/plain": [
       "numpy.int64"
      ]
     },
     "execution_count": 13,
     "metadata": {},
     "output_type": "execute_result"
    }
   ],
   "source": [
    "type(wt.DATE[0])"
   ]
  },
  {
   "cell_type": "code",
   "execution_count": 15,
   "metadata": {},
   "outputs": [
    {
     "data": {
      "text/html": [
       "<div>\n",
       "<table border=\"1\" class=\"dataframe\">\n",
       "  <thead>\n",
       "    <tr style=\"text-align: right;\">\n",
       "      <th></th>\n",
       "      <th>STATION</th>\n",
       "      <th>STATION_NAME</th>\n",
       "      <th>DATE</th>\n",
       "      <th>PRCP</th>\n",
       "      <th>SNWD</th>\n",
       "      <th>SNOW</th>\n",
       "      <th>TAVG</th>\n",
       "      <th>TMAX</th>\n",
       "      <th>TMIN</th>\n",
       "      <th>AWND</th>\n",
       "      <th>WDF2</th>\n",
       "      <th>WSF2</th>\n",
       "    </tr>\n",
       "  </thead>\n",
       "  <tbody>\n",
       "    <tr>\n",
       "      <th>0</th>\n",
       "      <td>GHCND:USW00014740</td>\n",
       "      <td>HARTFORD BRADLEY INTERNATIONAL AIRPORT CT US</td>\n",
       "      <td>20160101</td>\n",
       "      <td>0.0</td>\n",
       "      <td>-9999.0</td>\n",
       "      <td>0.0</td>\n",
       "      <td>37</td>\n",
       "      <td>39</td>\n",
       "      <td>28</td>\n",
       "      <td>6.7</td>\n",
       "      <td>250</td>\n",
       "      <td>15.0</td>\n",
       "    </tr>\n",
       "    <tr>\n",
       "      <th>1</th>\n",
       "      <td>GHCND:USW00014740</td>\n",
       "      <td>HARTFORD BRADLEY INTERNATIONAL AIRPORT CT US</td>\n",
       "      <td>20160102</td>\n",
       "      <td>0.0</td>\n",
       "      <td>-9999.0</td>\n",
       "      <td>0.0</td>\n",
       "      <td>33</td>\n",
       "      <td>40</td>\n",
       "      <td>26</td>\n",
       "      <td>8.1</td>\n",
       "      <td>280</td>\n",
       "      <td>19.9</td>\n",
       "    </tr>\n",
       "    <tr>\n",
       "      <th>2</th>\n",
       "      <td>GHCND:USW00014740</td>\n",
       "      <td>HARTFORD BRADLEY INTERNATIONAL AIRPORT CT US</td>\n",
       "      <td>20160103</td>\n",
       "      <td>0.0</td>\n",
       "      <td>-9999.0</td>\n",
       "      <td>0.0</td>\n",
       "      <td>35</td>\n",
       "      <td>43</td>\n",
       "      <td>28</td>\n",
       "      <td>7.8</td>\n",
       "      <td>260</td>\n",
       "      <td>17.0</td>\n",
       "    </tr>\n",
       "    <tr>\n",
       "      <th>3</th>\n",
       "      <td>GHCND:USW00014740</td>\n",
       "      <td>HARTFORD BRADLEY INTERNATIONAL AIRPORT CT US</td>\n",
       "      <td>20160104</td>\n",
       "      <td>0.0</td>\n",
       "      <td>-9999.0</td>\n",
       "      <td>0.0</td>\n",
       "      <td>28</td>\n",
       "      <td>34</td>\n",
       "      <td>9</td>\n",
       "      <td>14.3</td>\n",
       "      <td>360</td>\n",
       "      <td>25.1</td>\n",
       "    </tr>\n",
       "    <tr>\n",
       "      <th>4</th>\n",
       "      <td>GHCND:USW00014740</td>\n",
       "      <td>HARTFORD BRADLEY INTERNATIONAL AIRPORT CT US</td>\n",
       "      <td>20160105</td>\n",
       "      <td>0.0</td>\n",
       "      <td>-9999.0</td>\n",
       "      <td>0.0</td>\n",
       "      <td>14</td>\n",
       "      <td>27</td>\n",
       "      <td>5</td>\n",
       "      <td>6.5</td>\n",
       "      <td>360</td>\n",
       "      <td>23.0</td>\n",
       "    </tr>\n",
       "  </tbody>\n",
       "</table>\n",
       "</div>"
      ],
      "text/plain": [
       "             STATION                                  STATION_NAME      DATE  \\\n",
       "0  GHCND:USW00014740  HARTFORD BRADLEY INTERNATIONAL AIRPORT CT US  20160101   \n",
       "1  GHCND:USW00014740  HARTFORD BRADLEY INTERNATIONAL AIRPORT CT US  20160102   \n",
       "2  GHCND:USW00014740  HARTFORD BRADLEY INTERNATIONAL AIRPORT CT US  20160103   \n",
       "3  GHCND:USW00014740  HARTFORD BRADLEY INTERNATIONAL AIRPORT CT US  20160104   \n",
       "4  GHCND:USW00014740  HARTFORD BRADLEY INTERNATIONAL AIRPORT CT US  20160105   \n",
       "\n",
       "   PRCP    SNWD  SNOW  TAVG  TMAX  TMIN  AWND  WDF2  WSF2  \n",
       "0   0.0 -9999.0   0.0    37    39    28   6.7   250  15.0  \n",
       "1   0.0 -9999.0   0.0    33    40    26   8.1   280  19.9  \n",
       "2   0.0 -9999.0   0.0    35    43    28   7.8   260  17.0  \n",
       "3   0.0 -9999.0   0.0    28    34     9  14.3   360  25.1  \n",
       "4   0.0 -9999.0   0.0    14    27     5   6.5   360  23.0  "
      ]
     },
     "execution_count": 15,
     "metadata": {},
     "output_type": "execute_result"
    }
   ],
   "source": [
    "wt.head()"
   ]
  },
  {
   "cell_type": "code",
   "execution_count": 16,
   "metadata": {},
   "outputs": [
    {
     "data": {
      "text/html": [
       "<div>\n",
       "<table border=\"1\" class=\"dataframe\">\n",
       "  <thead>\n",
       "    <tr style=\"text-align: right;\">\n",
       "      <th></th>\n",
       "      <th>Case_Number</th>\n",
       "      <th>Time_24HR</th>\n",
       "      <th>Address</th>\n",
       "      <th>UCR_1_Category</th>\n",
       "      <th>UCR_1_Description</th>\n",
       "      <th>UCR_1_Code</th>\n",
       "      <th>UCR_2_Category</th>\n",
       "      <th>UCR_2_Description</th>\n",
       "      <th>UCR_2_Code</th>\n",
       "      <th>Neighborhood</th>\n",
       "      <th>geom</th>\n",
       "      <th>p_date</th>\n",
       "    </tr>\n",
       "  </thead>\n",
       "  <tbody>\n",
       "    <tr>\n",
       "      <th>0</th>\n",
       "      <td>16004049</td>\n",
       "      <td>500</td>\n",
       "      <td>176 NEW BRITAIN AV</td>\n",
       "      <td>35* - MISC. CRIMES AGAINST PROPERTY</td>\n",
       "      <td>CR MISCHIEF 3</td>\n",
       "      <td>3503</td>\n",
       "      <td>19* - CRIMES AGAINST THE PUBLIC</td>\n",
       "      <td>DOMESTIC</td>\n",
       "      <td>1904</td>\n",
       "      <td>BARRY SQUARE</td>\n",
       "      <td>(41.7445621680965, -72.6886221669128)</td>\n",
       "      <td>2016-02-06</td>\n",
       "    </tr>\n",
       "    <tr>\n",
       "      <th>1</th>\n",
       "      <td>16007094</td>\n",
       "      <td>1230</td>\n",
       "      <td>CHURCH ST &amp; MAIN ST</td>\n",
       "      <td>31* - PERSONAL INJURY ACCIDENT</td>\n",
       "      <td>PERS INJ ACC</td>\n",
       "      <td>3124</td>\n",
       "      <td>23* - DRIVING LAWS</td>\n",
       "      <td>FOLL TOO CLOSE</td>\n",
       "      <td>2334</td>\n",
       "      <td>DOWNTOWN</td>\n",
       "      <td>(41.7685314245682, -72.6730419813765)</td>\n",
       "      <td>2016-03-09</td>\n",
       "    </tr>\n",
       "    <tr>\n",
       "      <th>2</th>\n",
       "      <td>16005383</td>\n",
       "      <td>1611</td>\n",
       "      <td>31 CABOT ST</td>\n",
       "      <td>08* - SIMPLE ASSAULT</td>\n",
       "      <td>ASSAULT 3</td>\n",
       "      <td>801</td>\n",
       "      <td>19* - CRIMES AGAINST THE PUBLIC</td>\n",
       "      <td>DOMESTIC</td>\n",
       "      <td>1904</td>\n",
       "      <td>UPPER ALBANY</td>\n",
       "      <td>(41.7785097707024, -72.6936632437865)</td>\n",
       "      <td>2016-02-21</td>\n",
       "    </tr>\n",
       "    <tr>\n",
       "      <th>3</th>\n",
       "      <td>16001841</td>\n",
       "      <td>920</td>\n",
       "      <td>517 ALBANY AV</td>\n",
       "      <td>51* - MISC. MANAGEMENT INFO.</td>\n",
       "      <td>STANDING COMPLAINT</td>\n",
       "      <td>5103</td>\n",
       "      <td>NaN</td>\n",
       "      <td>NaN</td>\n",
       "      <td>0</td>\n",
       "      <td>CLAY-ARSENAL</td>\n",
       "      <td>(41.7776677915618, -72.6854663745129)</td>\n",
       "      <td>2016-01-18</td>\n",
       "    </tr>\n",
       "    <tr>\n",
       "      <th>4</th>\n",
       "      <td>16005185</td>\n",
       "      <td>1415</td>\n",
       "      <td>1350 MAIN ST</td>\n",
       "      <td>06* - LARCENY</td>\n",
       "      <td>LARC4-M/V PART-STO-PLATE</td>\n",
       "      <td>645</td>\n",
       "      <td>NaN</td>\n",
       "      <td>NaN</td>\n",
       "      <td>0</td>\n",
       "      <td>DOWNTOWN</td>\n",
       "      <td>(41.7738722076485, -72.6767187031527)</td>\n",
       "      <td>2016-02-19</td>\n",
       "    </tr>\n",
       "  </tbody>\n",
       "</table>\n",
       "</div>"
      ],
      "text/plain": [
       "   Case_Number  Time_24HR              Address  \\\n",
       "0     16004049        500   176 NEW BRITAIN AV   \n",
       "1     16007094       1230  CHURCH ST & MAIN ST   \n",
       "2     16005383       1611          31 CABOT ST   \n",
       "3     16001841        920        517 ALBANY AV   \n",
       "4     16005185       1415         1350 MAIN ST   \n",
       "\n",
       "                        UCR_1_Category         UCR_1_Description  UCR_1_Code  \\\n",
       "0  35* - MISC. CRIMES AGAINST PROPERTY             CR MISCHIEF 3        3503   \n",
       "1       31* - PERSONAL INJURY ACCIDENT              PERS INJ ACC        3124   \n",
       "2                 08* - SIMPLE ASSAULT                 ASSAULT 3         801   \n",
       "3         51* - MISC. MANAGEMENT INFO.        STANDING COMPLAINT        5103   \n",
       "4                        06* - LARCENY  LARC4-M/V PART-STO-PLATE         645   \n",
       "\n",
       "                    UCR_2_Category UCR_2_Description  UCR_2_Code  \\\n",
       "0  19* - CRIMES AGAINST THE PUBLIC          DOMESTIC        1904   \n",
       "1               23* - DRIVING LAWS    FOLL TOO CLOSE        2334   \n",
       "2  19* - CRIMES AGAINST THE PUBLIC          DOMESTIC        1904   \n",
       "3                              NaN               NaN           0   \n",
       "4                              NaN               NaN           0   \n",
       "\n",
       "   Neighborhood                                   geom      p_date  \n",
       "0  BARRY SQUARE  (41.7445621680965, -72.6886221669128)  2016-02-06  \n",
       "1      DOWNTOWN  (41.7685314245682, -72.6730419813765)  2016-03-09  \n",
       "2  UPPER ALBANY  (41.7785097707024, -72.6936632437865)  2016-02-21  \n",
       "3  CLAY-ARSENAL  (41.7776677915618, -72.6854663745129)  2016-01-18  \n",
       "4      DOWNTOWN  (41.7738722076485, -72.6767187031527)  2016-02-19  "
      ]
     },
     "execution_count": 16,
     "metadata": {},
     "output_type": "execute_result"
    }
   ],
   "source": [
    "cr.head()"
   ]
  },
  {
   "cell_type": "code",
   "execution_count": 17,
   "metadata": {},
   "outputs": [
    {
     "data": {
      "text/plain": [
       "str"
      ]
     },
     "execution_count": 17,
     "metadata": {},
     "output_type": "execute_result"
    }
   ],
   "source": [
    "type(cr.p_date[0])"
   ]
  },
  {
   "cell_type": "code",
   "execution_count": 31,
   "metadata": {
    "collapsed": true
   },
   "outputs": [],
   "source": [
    "cr_grouped = cr.groupby('p_date')"
   ]
  },
  {
   "cell_type": "code",
   "execution_count": 32,
   "metadata": {},
   "outputs": [],
   "source": [
    "cr_date = cr_grouped.size()"
   ]
  },
  {
   "cell_type": "code",
   "execution_count": 33,
   "metadata": {},
   "outputs": [
    {
     "data": {
      "text/plain": [
       "pandas.core.series.Series"
      ]
     },
     "execution_count": 33,
     "metadata": {},
     "output_type": "execute_result"
    }
   ],
   "source": [
    "type(cr_date)"
   ]
  },
  {
   "cell_type": "code",
   "execution_count": 34,
   "metadata": {},
   "outputs": [],
   "source": [
    "x = pd.DataFrame(cr_date)"
   ]
  },
  {
   "cell_type": "code",
   "execution_count": 35,
   "metadata": {},
   "outputs": [
    {
     "name": "stdout",
     "output_type": "stream",
     "text": [
      "<class 'pandas.core.frame.DataFrame'>\n",
      "Index: 366 entries, 2016-01-01 to 2016-12-31\n",
      "Data columns (total 1 columns):\n",
      "0    366 non-null int64\n",
      "dtypes: int64(1)\n",
      "memory usage: 5.7+ KB\n"
     ]
    }
   ],
   "source": [
    "x.info()"
   ]
  },
  {
   "cell_type": "code",
   "execution_count": 36,
   "metadata": {},
   "outputs": [],
   "source": [
    "cr_date['date'] = 0"
   ]
  },
  {
   "cell_type": "code",
   "execution_count": 37,
   "metadata": {},
   "outputs": [
    {
     "data": {
      "text/plain": [
       "p_date\n",
       "2016-01-01     96\n",
       "2016-01-02     82\n",
       "2016-01-03     61\n",
       "2016-01-04     81\n",
       "2016-01-05    103\n",
       "dtype: int64"
      ]
     },
     "execution_count": 37,
     "metadata": {},
     "output_type": "execute_result"
    }
   ],
   "source": [
    "cr_date.head()"
   ]
  },
  {
   "cell_type": "code",
   "execution_count": 38,
   "metadata": {
    "collapsed": true
   },
   "outputs": [],
   "source": [
    "x['date'] = 0"
   ]
  },
  {
   "cell_type": "code",
   "execution_count": 39,
   "metadata": {},
   "outputs": [
    {
     "data": {
      "text/html": [
       "<div>\n",
       "<table border=\"1\" class=\"dataframe\">\n",
       "  <thead>\n",
       "    <tr style=\"text-align: right;\">\n",
       "      <th></th>\n",
       "      <th>0</th>\n",
       "      <th>date</th>\n",
       "    </tr>\n",
       "    <tr>\n",
       "      <th>p_date</th>\n",
       "      <th></th>\n",
       "      <th></th>\n",
       "    </tr>\n",
       "  </thead>\n",
       "  <tbody>\n",
       "    <tr>\n",
       "      <th>2016-01-01</th>\n",
       "      <td>96</td>\n",
       "      <td>0</td>\n",
       "    </tr>\n",
       "    <tr>\n",
       "      <th>2016-01-02</th>\n",
       "      <td>82</td>\n",
       "      <td>0</td>\n",
       "    </tr>\n",
       "    <tr>\n",
       "      <th>2016-01-03</th>\n",
       "      <td>61</td>\n",
       "      <td>0</td>\n",
       "    </tr>\n",
       "    <tr>\n",
       "      <th>2016-01-04</th>\n",
       "      <td>81</td>\n",
       "      <td>0</td>\n",
       "    </tr>\n",
       "    <tr>\n",
       "      <th>2016-01-05</th>\n",
       "      <td>103</td>\n",
       "      <td>0</td>\n",
       "    </tr>\n",
       "  </tbody>\n",
       "</table>\n",
       "</div>"
      ],
      "text/plain": [
       "              0  date\n",
       "p_date               \n",
       "2016-01-01   96     0\n",
       "2016-01-02   82     0\n",
       "2016-01-03   61     0\n",
       "2016-01-04   81     0\n",
       "2016-01-05  103     0"
      ]
     },
     "execution_count": 39,
     "metadata": {},
     "output_type": "execute_result"
    }
   ],
   "source": [
    "x.head()"
   ]
  },
  {
   "cell_type": "code",
   "execution_count": 40,
   "metadata": {
    "collapsed": true
   },
   "outputs": [],
   "source": [
    "del x['date']"
   ]
  },
  {
   "cell_type": "code",
   "execution_count": 41,
   "metadata": {},
   "outputs": [
    {
     "data": {
      "text/html": [
       "<div>\n",
       "<table border=\"1\" class=\"dataframe\">\n",
       "  <thead>\n",
       "    <tr style=\"text-align: right;\">\n",
       "      <th></th>\n",
       "      <th>0</th>\n",
       "    </tr>\n",
       "    <tr>\n",
       "      <th>p_date</th>\n",
       "      <th></th>\n",
       "    </tr>\n",
       "  </thead>\n",
       "  <tbody>\n",
       "    <tr>\n",
       "      <th>2016-01-01</th>\n",
       "      <td>96</td>\n",
       "    </tr>\n",
       "    <tr>\n",
       "      <th>2016-01-02</th>\n",
       "      <td>82</td>\n",
       "    </tr>\n",
       "    <tr>\n",
       "      <th>2016-01-03</th>\n",
       "      <td>61</td>\n",
       "    </tr>\n",
       "    <tr>\n",
       "      <th>2016-01-04</th>\n",
       "      <td>81</td>\n",
       "    </tr>\n",
       "    <tr>\n",
       "      <th>2016-01-05</th>\n",
       "      <td>103</td>\n",
       "    </tr>\n",
       "  </tbody>\n",
       "</table>\n",
       "</div>"
      ],
      "text/plain": [
       "              0\n",
       "p_date         \n",
       "2016-01-01   96\n",
       "2016-01-02   82\n",
       "2016-01-03   61\n",
       "2016-01-04   81\n",
       "2016-01-05  103"
      ]
     },
     "execution_count": 41,
     "metadata": {},
     "output_type": "execute_result"
    }
   ],
   "source": [
    "x.head()"
   ]
  },
  {
   "cell_type": "code",
   "execution_count": 42,
   "metadata": {
    "collapsed": true
   },
   "outputs": [],
   "source": [
    "x.columns = ['Count']"
   ]
  },
  {
   "cell_type": "code",
   "execution_count": 43,
   "metadata": {},
   "outputs": [
    {
     "data": {
      "text/html": [
       "<div>\n",
       "<table border=\"1\" class=\"dataframe\">\n",
       "  <thead>\n",
       "    <tr style=\"text-align: right;\">\n",
       "      <th></th>\n",
       "      <th>Count</th>\n",
       "    </tr>\n",
       "    <tr>\n",
       "      <th>p_date</th>\n",
       "      <th></th>\n",
       "    </tr>\n",
       "  </thead>\n",
       "  <tbody>\n",
       "    <tr>\n",
       "      <th>2016-01-01</th>\n",
       "      <td>96</td>\n",
       "    </tr>\n",
       "    <tr>\n",
       "      <th>2016-01-02</th>\n",
       "      <td>82</td>\n",
       "    </tr>\n",
       "    <tr>\n",
       "      <th>2016-01-03</th>\n",
       "      <td>61</td>\n",
       "    </tr>\n",
       "    <tr>\n",
       "      <th>2016-01-04</th>\n",
       "      <td>81</td>\n",
       "    </tr>\n",
       "    <tr>\n",
       "      <th>2016-01-05</th>\n",
       "      <td>103</td>\n",
       "    </tr>\n",
       "  </tbody>\n",
       "</table>\n",
       "</div>"
      ],
      "text/plain": [
       "            Count\n",
       "p_date           \n",
       "2016-01-01     96\n",
       "2016-01-02     82\n",
       "2016-01-03     61\n",
       "2016-01-04     81\n",
       "2016-01-05    103"
      ]
     },
     "execution_count": 43,
     "metadata": {},
     "output_type": "execute_result"
    }
   ],
   "source": [
    "x.head()"
   ]
  },
  {
   "cell_type": "code",
   "execution_count": 44,
   "metadata": {
    "collapsed": true
   },
   "outputs": [],
   "source": [
    "x['date'] = x.index"
   ]
  },
  {
   "cell_type": "code",
   "execution_count": 45,
   "metadata": {},
   "outputs": [
    {
     "data": {
      "text/html": [
       "<div>\n",
       "<table border=\"1\" class=\"dataframe\">\n",
       "  <thead>\n",
       "    <tr style=\"text-align: right;\">\n",
       "      <th></th>\n",
       "      <th>Count</th>\n",
       "      <th>date</th>\n",
       "    </tr>\n",
       "    <tr>\n",
       "      <th>p_date</th>\n",
       "      <th></th>\n",
       "      <th></th>\n",
       "    </tr>\n",
       "  </thead>\n",
       "  <tbody>\n",
       "    <tr>\n",
       "      <th>2016-01-01</th>\n",
       "      <td>96</td>\n",
       "      <td>2016-01-01</td>\n",
       "    </tr>\n",
       "    <tr>\n",
       "      <th>2016-01-02</th>\n",
       "      <td>82</td>\n",
       "      <td>2016-01-02</td>\n",
       "    </tr>\n",
       "    <tr>\n",
       "      <th>2016-01-03</th>\n",
       "      <td>61</td>\n",
       "      <td>2016-01-03</td>\n",
       "    </tr>\n",
       "    <tr>\n",
       "      <th>2016-01-04</th>\n",
       "      <td>81</td>\n",
       "      <td>2016-01-04</td>\n",
       "    </tr>\n",
       "    <tr>\n",
       "      <th>2016-01-05</th>\n",
       "      <td>103</td>\n",
       "      <td>2016-01-05</td>\n",
       "    </tr>\n",
       "  </tbody>\n",
       "</table>\n",
       "</div>"
      ],
      "text/plain": [
       "            Count        date\n",
       "p_date                       \n",
       "2016-01-01     96  2016-01-01\n",
       "2016-01-02     82  2016-01-02\n",
       "2016-01-03     61  2016-01-03\n",
       "2016-01-04     81  2016-01-04\n",
       "2016-01-05    103  2016-01-05"
      ]
     },
     "execution_count": 45,
     "metadata": {},
     "output_type": "execute_result"
    }
   ],
   "source": [
    "x.head()"
   ]
  },
  {
   "cell_type": "code",
   "execution_count": 46,
   "metadata": {},
   "outputs": [
    {
     "data": {
      "text/html": [
       "<div>\n",
       "<table border=\"1\" class=\"dataframe\">\n",
       "  <thead>\n",
       "    <tr style=\"text-align: right;\">\n",
       "      <th></th>\n",
       "      <th>STATION</th>\n",
       "      <th>STATION_NAME</th>\n",
       "      <th>DATE</th>\n",
       "      <th>PRCP</th>\n",
       "      <th>SNWD</th>\n",
       "      <th>SNOW</th>\n",
       "      <th>TAVG</th>\n",
       "      <th>TMAX</th>\n",
       "      <th>TMIN</th>\n",
       "      <th>AWND</th>\n",
       "      <th>WDF2</th>\n",
       "      <th>WSF2</th>\n",
       "    </tr>\n",
       "  </thead>\n",
       "  <tbody>\n",
       "    <tr>\n",
       "      <th>0</th>\n",
       "      <td>GHCND:USW00014740</td>\n",
       "      <td>HARTFORD BRADLEY INTERNATIONAL AIRPORT CT US</td>\n",
       "      <td>20160101</td>\n",
       "      <td>0.0</td>\n",
       "      <td>-9999.0</td>\n",
       "      <td>0.0</td>\n",
       "      <td>37</td>\n",
       "      <td>39</td>\n",
       "      <td>28</td>\n",
       "      <td>6.7</td>\n",
       "      <td>250</td>\n",
       "      <td>15.0</td>\n",
       "    </tr>\n",
       "    <tr>\n",
       "      <th>1</th>\n",
       "      <td>GHCND:USW00014740</td>\n",
       "      <td>HARTFORD BRADLEY INTERNATIONAL AIRPORT CT US</td>\n",
       "      <td>20160102</td>\n",
       "      <td>0.0</td>\n",
       "      <td>-9999.0</td>\n",
       "      <td>0.0</td>\n",
       "      <td>33</td>\n",
       "      <td>40</td>\n",
       "      <td>26</td>\n",
       "      <td>8.1</td>\n",
       "      <td>280</td>\n",
       "      <td>19.9</td>\n",
       "    </tr>\n",
       "    <tr>\n",
       "      <th>2</th>\n",
       "      <td>GHCND:USW00014740</td>\n",
       "      <td>HARTFORD BRADLEY INTERNATIONAL AIRPORT CT US</td>\n",
       "      <td>20160103</td>\n",
       "      <td>0.0</td>\n",
       "      <td>-9999.0</td>\n",
       "      <td>0.0</td>\n",
       "      <td>35</td>\n",
       "      <td>43</td>\n",
       "      <td>28</td>\n",
       "      <td>7.8</td>\n",
       "      <td>260</td>\n",
       "      <td>17.0</td>\n",
       "    </tr>\n",
       "    <tr>\n",
       "      <th>3</th>\n",
       "      <td>GHCND:USW00014740</td>\n",
       "      <td>HARTFORD BRADLEY INTERNATIONAL AIRPORT CT US</td>\n",
       "      <td>20160104</td>\n",
       "      <td>0.0</td>\n",
       "      <td>-9999.0</td>\n",
       "      <td>0.0</td>\n",
       "      <td>28</td>\n",
       "      <td>34</td>\n",
       "      <td>9</td>\n",
       "      <td>14.3</td>\n",
       "      <td>360</td>\n",
       "      <td>25.1</td>\n",
       "    </tr>\n",
       "    <tr>\n",
       "      <th>4</th>\n",
       "      <td>GHCND:USW00014740</td>\n",
       "      <td>HARTFORD BRADLEY INTERNATIONAL AIRPORT CT US</td>\n",
       "      <td>20160105</td>\n",
       "      <td>0.0</td>\n",
       "      <td>-9999.0</td>\n",
       "      <td>0.0</td>\n",
       "      <td>14</td>\n",
       "      <td>27</td>\n",
       "      <td>5</td>\n",
       "      <td>6.5</td>\n",
       "      <td>360</td>\n",
       "      <td>23.0</td>\n",
       "    </tr>\n",
       "  </tbody>\n",
       "</table>\n",
       "</div>"
      ],
      "text/plain": [
       "             STATION                                  STATION_NAME      DATE  \\\n",
       "0  GHCND:USW00014740  HARTFORD BRADLEY INTERNATIONAL AIRPORT CT US  20160101   \n",
       "1  GHCND:USW00014740  HARTFORD BRADLEY INTERNATIONAL AIRPORT CT US  20160102   \n",
       "2  GHCND:USW00014740  HARTFORD BRADLEY INTERNATIONAL AIRPORT CT US  20160103   \n",
       "3  GHCND:USW00014740  HARTFORD BRADLEY INTERNATIONAL AIRPORT CT US  20160104   \n",
       "4  GHCND:USW00014740  HARTFORD BRADLEY INTERNATIONAL AIRPORT CT US  20160105   \n",
       "\n",
       "   PRCP    SNWD  SNOW  TAVG  TMAX  TMIN  AWND  WDF2  WSF2  \n",
       "0   0.0 -9999.0   0.0    37    39    28   6.7   250  15.0  \n",
       "1   0.0 -9999.0   0.0    33    40    26   8.1   280  19.9  \n",
       "2   0.0 -9999.0   0.0    35    43    28   7.8   260  17.0  \n",
       "3   0.0 -9999.0   0.0    28    34     9  14.3   360  25.1  \n",
       "4   0.0 -9999.0   0.0    14    27     5   6.5   360  23.0  "
      ]
     },
     "execution_count": 46,
     "metadata": {},
     "output_type": "execute_result"
    }
   ],
   "source": [
    "wt.head()"
   ]
  },
  {
   "cell_type": "code",
   "execution_count": 47,
   "metadata": {},
   "outputs": [
    {
     "data": {
      "text/plain": [
       "[<matplotlib.lines.Line2D at 0x103d3ac88>]"
      ]
     },
     "execution_count": 47,
     "metadata": {},
     "output_type": "execute_result"
    },
    {
     "data": {
      "image/png": "[encoded data removed]",
      "text/plain": [
       "<matplotlib.figure.Figure at 0x10a10cbe0>"
      ]
     },
     "metadata": {},
     "output_type": "display_data"
    }
   ],
   "source": [
    "plt.plot(wt.TAVG)"
   ]
  },
  {
   "cell_type": "code",
   "execution_count": 49,
   "metadata": {},
   "outputs": [
    {
     "data": {
      "text/plain": [
       "<matplotlib.collections.PathCollection at 0x109d08198>"
      ]
     },
     "execution_count": 49,
     "metadata": {},
     "output_type": "execute_result"
    },
    {
     "data": {
      "image/png": "[encoded data removed]",
      "text/plain": [
       "<matplotlib.figure.Figure at 0x103d447f0>"
      ]
     },
     "metadata": {},
     "output_type": "display_data"
    }
   ],
   "source": [
    "plt.scatter(wt.DATE, wt.TAVG)"
   ]
  },
  {
   "cell_type": "code",
   "execution_count": 51,
   "metadata": {},
   "outputs": [],
   "source": [
    "import datetime as dt"
   ]
  },
  {
   "cell_type": "code",
   "execution_count": 52,
   "metadata": {},
   "outputs": [
    {
     "data": {
      "text/plain": [
       "datetime.datetime(2016, 1, 1, 0, 0)"
      ]
     },
     "execution_count": 52,
     "metadata": {},
     "output_type": "execute_result"
    }
   ],
   "source": [
    "dt.datetime.strptime(\"01/01/2016\", \"%m/%d/%Y\")"
   ]
  },
  {
   "cell_type": "code",
   "execution_count": 53,
   "metadata": {
    "collapsed": true
   },
   "outputs": [],
   "source": [
    "x['date'] = pd.to_datetime(x.index, format=\"%Y-%m-%d\")"
   ]
  },
  {
   "cell_type": "code",
   "execution_count": 54,
   "metadata": {},
   "outputs": [
    {
     "data": {
      "text/plain": [
       "pandas.tslib.Timestamp"
      ]
     },
     "execution_count": 54,
     "metadata": {},
     "output_type": "execute_result"
    }
   ],
   "source": [
    "type(x.date[0])"
   ]
  },
  {
   "cell_type": "code",
   "execution_count": 61,
   "metadata": {},
   "outputs": [],
   "source": [
    "wt['p_date'] = pd.to_datetime(wt.DATE, format = \"%Y%m%d\")"
   ]
  },
  {
   "cell_type": "code",
   "execution_count": 62,
   "metadata": {},
   "outputs": [
    {
     "data": {
      "text/html": [
       "<div>\n",
       "<table border=\"1\" class=\"dataframe\">\n",
       "  <thead>\n",
       "    <tr style=\"text-align: right;\">\n",
       "      <th></th>\n",
       "      <th>STATION</th>\n",
       "      <th>STATION_NAME</th>\n",
       "      <th>DATE</th>\n",
       "      <th>PRCP</th>\n",
       "      <th>SNWD</th>\n",
       "      <th>SNOW</th>\n",
       "      <th>TAVG</th>\n",
       "      <th>TMAX</th>\n",
       "      <th>TMIN</th>\n",
       "      <th>AWND</th>\n",
       "      <th>WDF2</th>\n",
       "      <th>WSF2</th>\n",
       "      <th>p_date</th>\n",
       "    </tr>\n",
       "  </thead>\n",
       "  <tbody>\n",
       "    <tr>\n",
       "      <th>0</th>\n",
       "      <td>GHCND:USW00014740</td>\n",
       "      <td>HARTFORD BRADLEY INTERNATIONAL AIRPORT CT US</td>\n",
       "      <td>20160101</td>\n",
       "      <td>0.0</td>\n",
       "      <td>-9999.0</td>\n",
       "      <td>0.0</td>\n",
       "      <td>37</td>\n",
       "      <td>39</td>\n",
       "      <td>28</td>\n",
       "      <td>6.7</td>\n",
       "      <td>250</td>\n",
       "      <td>15.0</td>\n",
       "      <td>2016-01-01</td>\n",
       "    </tr>\n",
       "    <tr>\n",
       "      <th>1</th>\n",
       "      <td>GHCND:USW00014740</td>\n",
       "      <td>HARTFORD BRADLEY INTERNATIONAL AIRPORT CT US</td>\n",
       "      <td>20160102</td>\n",
       "      <td>0.0</td>\n",
       "      <td>-9999.0</td>\n",
       "      <td>0.0</td>\n",
       "      <td>33</td>\n",
       "      <td>40</td>\n",
       "      <td>26</td>\n",
       "      <td>8.1</td>\n",
       "      <td>280</td>\n",
       "      <td>19.9</td>\n",
       "      <td>2016-01-02</td>\n",
       "    </tr>\n",
       "    <tr>\n",
       "      <th>2</th>\n",
       "      <td>GHCND:USW00014740</td>\n",
       "      <td>HARTFORD BRADLEY INTERNATIONAL AIRPORT CT US</td>\n",
       "      <td>20160103</td>\n",
       "      <td>0.0</td>\n",
       "      <td>-9999.0</td>\n",
       "      <td>0.0</td>\n",
       "      <td>35</td>\n",
       "      <td>43</td>\n",
       "      <td>28</td>\n",
       "      <td>7.8</td>\n",
       "      <td>260</td>\n",
       "      <td>17.0</td>\n",
       "      <td>2016-01-03</td>\n",
       "    </tr>\n",
       "    <tr>\n",
       "      <th>3</th>\n",
       "      <td>GHCND:USW00014740</td>\n",
       "      <td>HARTFORD BRADLEY INTERNATIONAL AIRPORT CT US</td>\n",
       "      <td>20160104</td>\n",
       "      <td>0.0</td>\n",
       "      <td>-9999.0</td>\n",
       "      <td>0.0</td>\n",
       "      <td>28</td>\n",
       "      <td>34</td>\n",
       "      <td>9</td>\n",
       "      <td>14.3</td>\n",
       "      <td>360</td>\n",
       "      <td>25.1</td>\n",
       "      <td>2016-01-04</td>\n",
       "    </tr>\n",
       "    <tr>\n",
       "      <th>4</th>\n",
       "      <td>GHCND:USW00014740</td>\n",
       "      <td>HARTFORD BRADLEY INTERNATIONAL AIRPORT CT US</td>\n",
       "      <td>20160105</td>\n",
       "      <td>0.0</td>\n",
       "      <td>-9999.0</td>\n",
       "      <td>0.0</td>\n",
       "      <td>14</td>\n",
       "      <td>27</td>\n",
       "      <td>5</td>\n",
       "      <td>6.5</td>\n",
       "      <td>360</td>\n",
       "      <td>23.0</td>\n",
       "      <td>2016-01-05</td>\n",
       "    </tr>\n",
       "  </tbody>\n",
       "</table>\n",
       "</div>"
      ],
      "text/plain": [
       "             STATION                                  STATION_NAME      DATE  \\\n",
       "0  GHCND:USW00014740  HARTFORD BRADLEY INTERNATIONAL AIRPORT CT US  20160101   \n",
       "1  GHCND:USW00014740  HARTFORD BRADLEY INTERNATIONAL AIRPORT CT US  20160102   \n",
       "2  GHCND:USW00014740  HARTFORD BRADLEY INTERNATIONAL AIRPORT CT US  20160103   \n",
       "3  GHCND:USW00014740  HARTFORD BRADLEY INTERNATIONAL AIRPORT CT US  20160104   \n",
       "4  GHCND:USW00014740  HARTFORD BRADLEY INTERNATIONAL AIRPORT CT US  20160105   \n",
       "\n",
       "   PRCP    SNWD  SNOW  TAVG  TMAX  TMIN  AWND  WDF2  WSF2     p_date  \n",
       "0   0.0 -9999.0   0.0    37    39    28   6.7   250  15.0 2016-01-01  \n",
       "1   0.0 -9999.0   0.0    33    40    26   8.1   280  19.9 2016-01-02  \n",
       "2   0.0 -9999.0   0.0    35    43    28   7.8   260  17.0 2016-01-03  \n",
       "3   0.0 -9999.0   0.0    28    34     9  14.3   360  25.1 2016-01-04  \n",
       "4   0.0 -9999.0   0.0    14    27     5   6.5   360  23.0 2016-01-05  "
      ]
     },
     "execution_count": 62,
     "metadata": {},
     "output_type": "execute_result"
    }
   ],
   "source": [
    "wt.head()"
   ]
  },
  {
   "cell_type": "code",
   "execution_count": 66,
   "metadata": {},
   "outputs": [],
   "source": [
    "cr_wt = x.merge(wt, left_on = 'date', right_on = 'p_date', how = 'inner')"
   ]
  },
  {
   "cell_type": "code",
   "execution_count": 67,
   "metadata": {},
   "outputs": [
    {
     "name": "stdout",
     "output_type": "stream",
     "text": [
      "<class 'pandas.core.frame.DataFrame'>\n",
      "Int64Index: 366 entries, 0 to 365\n",
      "Data columns (total 15 columns):\n",
      "Count           366 non-null int64\n",
      "date            366 non-null datetime64[ns]\n",
      "STATION         366 non-null object\n",
      "STATION_NAME    366 non-null object\n",
      "DATE            366 non-null int64\n",
      "PRCP            366 non-null float64\n",
      "SNWD            366 non-null float64\n",
      "SNOW            366 non-null float64\n",
      "TAVG            366 non-null int64\n",
      "TMAX            366 non-null int64\n",
      "TMIN            366 non-null int64\n",
      "AWND            366 non-null float64\n",
      "WDF2            366 non-null int64\n",
      "WSF2            366 non-null float64\n",
      "p_date          366 non-null datetime64[ns]\n",
      "dtypes: datetime64[ns](2), float64(5), int64(6), object(2)\n",
      "memory usage: 45.8+ KB\n"
     ]
    }
   ],
   "source": [
    "cr_wt.info()"
   ]
  },
  {
   "cell_type": "code",
   "execution_count": 71,
   "metadata": {},
   "outputs": [
    {
     "data": {
      "text/plain": [
       "<matplotlib.collections.PathCollection at 0x10a985278>"
      ]
     },
     "execution_count": 71,
     "metadata": {},
     "output_type": "execute_result"
    },
    {
     "data": {
      "image/png": "[encoded data removed]",
      "text/plain": [
       "<matplotlib.figure.Figure at 0x10a8bc320>"
      ]
     },
     "metadata": {},
     "output_type": "display_data"
    }
   ],
   "source": [
    "plt.scatter(cr_wt.PRCP, cr_wt.Count)"
   ]
  },
  {
   "cell_type": "code",
   "execution_count": 72,
   "metadata": {},
   "outputs": [
    {
     "data": {
      "text/plain": [
       "array([[ 1.        , -0.03542326],\n",
       "       [-0.03542326,  1.        ]])"
      ]
     },
     "execution_count": 72,
     "metadata": {},
     "output_type": "execute_result"
    }
   ],
   "source": [
    "np.corrcoef(x = cr_wt.PRCP, y = cr_wt.Count)"
   ]
  },
  {
   "cell_type": "code",
   "execution_count": 73,
   "metadata": {},
   "outputs": [
    {
     "data": {
      "text/plain": [
       "array([[ 1.        ,  0.04331735],\n",
       "       [ 0.04331735,  1.        ]])"
      ]
     },
     "execution_count": 73,
     "metadata": {},
     "output_type": "execute_result"
    }
   ],
   "source": [
    "np.corrcoef(x = cr_wt.TAVG, y = cr_wt.Count)"
   ]
  },
  {
   "cell_type": "code",
   "execution_count": 86,
   "metadata": {},
   "outputs": [
    {
     "data": {
      "text/plain": [
       "<matplotlib.collections.PathCollection at 0x10ae5bfd0>"
      ]
     },
     "execution_count": 86,
     "metadata": {},
     "output_type": "execute_result"
    },
    {
     "data": {
      "image/png": "[encoded data removed]",
      "text/plain": [
       "<matplotlib.figure.Figure at 0x10ad9bc18>"
      ]
     },
     "metadata": {},
     "output_type": "display_data"
    }
   ],
   "source": [
    "plt.scatter(cr_wt.TAVG, cr_wt.Count)"
   ]
  },
  {
   "cell_type": "code",
   "execution_count": 87,
   "metadata": {},
   "outputs": [
    {
     "data": {
      "text/plain": [
       "<matplotlib.collections.PathCollection at 0x10b0787f0>"
      ]
     },
     "execution_count": 87,
     "metadata": {},
     "output_type": "execute_result"
    },
    {
     "data": {
      "image/png": "[encoded data removed]",
      "text/plain": [
       "<matplotlib.figure.Figure at 0x10ae82ac8>"
      ]
     },
     "metadata": {},
     "output_type": "display_data"
    }
   ],
   "source": [
    "plt.scatter(cr_wt.TAVG, cr_wt.PRCP)"
   ]
  },
  {
   "cell_type": "code",
   "execution_count": 94,
   "metadata": {},
   "outputs": [
    {
     "data": {
      "text/plain": [
       "<matplotlib.collections.PathCollection at 0x10b839320>"
      ]
     },
     "execution_count": 94,
     "metadata": {},
     "output_type": "execute_result"
    },
    {
     "data": {
      "image/png": "[encoded data removed]",
      "text/plain": [
       "<matplotlib.figure.Figure at 0x10b781390>"
      ]
     },
     "metadata": {},
     "output_type": "display_data"
    }
   ],
   "source": [
    "plt.scatter(cr_wt.TAVG, cr_wt.PRCP, s=np.log(cr_wt.Count), alpha = 0.3)"
   ]
  },
  {
   "cell_type": "code",
   "execution_count": 96,
   "metadata": {},
   "outputs": [],
   "source": [
    "tow = pd.read_csv(\"Towed_Cars_for_the_Past_30_Days.csv\")"
   ]
  },
  {
   "cell_type": "code",
   "execution_count": 97,
   "metadata": {
    "collapsed": true
   },
   "outputs": [],
   "source": [
    "s = set(tow.Make)"
   ]
  },
  {
   "cell_type": "code",
   "execution_count": 100,
   "metadata": {},
   "outputs": [],
   "source": [
    "s2 = list(s)"
   ]
  },
  {
   "cell_type": "code",
   "execution_count": 101,
   "metadata": {
    "collapsed": true
   },
   "outputs": [],
   "source": [
    "del s2[1]"
   ]
  },
  {
   "cell_type": "code",
   "execution_count": 102,
   "metadata": {},
   "outputs": [
    {
     "data": {
      "text/plain": [
       "[nan,\n",
       " 'HONDA',\n",
       " 'MAZDA',\n",
       " 'PONT',\n",
       " 'CHRY',\n",
       " 'GEO',\n",
       " 'LANDROVER',\n",
       " 'INFINITI',\n",
       " 'VMA',\n",
       " 'PONTIAC',\n",
       " 'MINI',\n",
       " 'OLDSMOBILE',\n",
       " 'MERCURY',\n",
       " 'CHRYSLER',\n",
       " 'TOTY',\n",
       " 'HYUN',\n",
       " 'SUB',\n",
       " 'KIA',\n",
       " 'NISS',\n",
       " 'BUICK',\n",
       " 'KAWASAKI',\n",
       " 'WELLS CAFT',\n",
       " 'INFIN',\n",
       " 'FREIGHTLIN',\n",
       " 'KAWASKI',\n",
       " 'YAMA-999',\n",
       " 'MERCU',\n",
       " 'VOLTSWAGEN',\n",
       " 'POINTIAC',\n",
       " 'HYUNDAI',\n",
       " 'LINCOLN',\n",
       " 'MITSUBISHI',\n",
       " 'VOLKSWAGEN',\n",
       " 'CHEVEROLET',\n",
       " 'INFINITY',\n",
       " 'MERZ',\n",
       " 'INFINTY',\n",
       " 'SAAB',\n",
       " 'VOLKSWAGON',\n",
       " 'CADILLAC',\n",
       " 'SUBARU',\n",
       " 'LEXUS',\n",
       " 'CHEVORLET',\n",
       " 'POLARIS',\n",
       " 'WELLCRAFT',\n",
       " 'INFINTI',\n",
       " 'SATURN',\n",
       " 'HYUNDIA',\n",
       " 'BMW',\n",
       " 'VOLKS',\n",
       " 'GMC',\n",
       " 'NISSA',\n",
       " 'TOYOT',\n",
       " 'CHEVY',\n",
       " 'JEEP',\n",
       " 'VOLSKWAGON',\n",
       " 'VOLVO',\n",
       " 'DODGE',\n",
       " 'ACURA',\n",
       " 'NISSAN',\n",
       " 'TOYOYA',\n",
       " 'RAM',\n",
       " 'YAMA',\n",
       " 'TOYOTA',\n",
       " 'HUYUNDAI',\n",
       " 'OLDSM',\n",
       " 'MITSU',\n",
       " 'VW',\n",
       " 'CHEVROLET',\n",
       " 'CHEVR',\n",
       " 'MITS',\n",
       " 'TOYT',\n",
       " 'FORD',\n",
       " 'MITSBUISHI',\n",
       " 'CROWN',\n",
       " 'MERCEDES',\n",
       " 'CHEV',\n",
       " 'AUDI']"
      ]
     },
     "execution_count": 102,
     "metadata": {},
     "output_type": "execute_result"
    }
   ],
   "source": [
    "s2"
   ]
  },
  {
   "cell_type": "code",
   "execution_count": 107,
   "metadata": {},
   "outputs": [],
   "source": [
    "d = {j: \"nothing\" for j in s}"
   ]
  },
  {
   "cell_type": "code",
   "execution_count": 108,
   "metadata": {},
   "outputs": [],
   "source": [
    "d['TOTY'] = 'TOYOTA';\n",
    "d['TOYTOA'] = 'TOYOTA';\n",
    "d['TOYOT'] = 'TOYOTA';\n",
    "d['TOYOYA'] = 'TOYOTA';"
   ]
  },
  {
   "cell_type": "code",
   "execution_count": 111,
   "metadata": {},
   "outputs": [
    {
     "data": {
      "text/plain": [
       "{nan: 'nothing',\n",
       " 'SUZUKI': 'nothing',\n",
       " 'HONDA': 'nothing',\n",
       " 'MAZDA': 'nothing',\n",
       " 'PONT': 'nothing',\n",
       " 'CHRY': 'nothing',\n",
       " 'GEO': 'nothing',\n",
       " 'LANDROVER': 'nothing',\n",
       " 'INFINITI': 'nothing',\n",
       " 'VMA': 'nothing',\n",
       " 'PONTIAC': 'nothing',\n",
       " 'MINI': 'nothing',\n",
       " 'OLDSMOBILE': 'nothing',\n",
       " 'MERCURY': 'nothing',\n",
       " 'CHRYSLER': 'nothing',\n",
       " 'TOTY': 'TOYOTA',\n",
       " 'HYUN': 'nothing',\n",
       " 'SUB': 'nothing',\n",
       " 'KIA': 'nothing',\n",
       " 'NISS': 'nothing',\n",
       " 'BUICK': 'nothing',\n",
       " 'KAWASAKI': 'nothing',\n",
       " 'WELLS CAFT': 'nothing',\n",
       " 'INFIN': 'nothing',\n",
       " 'FREIGHTLIN': 'nothing',\n",
       " 'KAWASKI': 'nothing',\n",
       " 'YAMA-999': 'nothing',\n",
       " 'MERCU': 'nothing',\n",
       " 'VOLTSWAGEN': 'nothing',\n",
       " 'POINTIAC': 'nothing',\n",
       " 'HYUNDAI': 'nothing',\n",
       " 'LINCOLN': 'nothing',\n",
       " 'MITSUBISHI': 'nothing',\n",
       " 'VOLKSWAGEN': 'nothing',\n",
       " 'CHEVEROLET': 'nothing',\n",
       " 'INFINITY': 'nothing',\n",
       " 'MERZ': 'nothing',\n",
       " 'INFINTY': 'nothing',\n",
       " 'SAAB': 'nothing',\n",
       " 'VOLKSWAGON': 'nothing',\n",
       " 'CADILLAC': 'nothing',\n",
       " 'SUBARU': 'nothing',\n",
       " 'LEXUS': 'nothing',\n",
       " 'CHEVORLET': 'nothing',\n",
       " 'POLARIS': 'nothing',\n",
       " 'WELLCRAFT': 'nothing',\n",
       " 'INFINTI': 'nothing',\n",
       " 'SATURN': 'nothing',\n",
       " 'HYUNDIA': 'nothing',\n",
       " 'BMW': 'nothing',\n",
       " 'VOLKS': 'nothing',\n",
       " 'GMC': 'nothing',\n",
       " 'NISSA': 'nothing',\n",
       " 'TOYOT': 'TOYOTA',\n",
       " 'CHEVY': 'nothing',\n",
       " 'JEEP': 'nothing',\n",
       " 'VOLSKWAGON': 'nothing',\n",
       " 'VOLVO': 'nothing',\n",
       " 'DODGE': 'nothing',\n",
       " 'ACURA': 'nothing',\n",
       " 'NISSAN': 'nothing',\n",
       " 'TOYOYA': 'TOYOTA',\n",
       " 'RAM': 'nothing',\n",
       " 'YAMA': 'nothing',\n",
       " 'TOYOTA': 'nothing',\n",
       " 'HUYUNDAI': 'nothing',\n",
       " 'OLDSM': 'nothing',\n",
       " 'MITSU': 'nothing',\n",
       " 'VW': 'nothing',\n",
       " 'CHEVROLET': 'nothing',\n",
       " 'CHEVR': 'nothing',\n",
       " 'MITS': 'nothing',\n",
       " 'TOYT': 'nothing',\n",
       " 'FORD': 'nothing',\n",
       " 'MITSBUISHI': 'nothing',\n",
       " 'CROWN': 'nothing',\n",
       " 'MERCEDES': 'nothing',\n",
       " 'CHEV': 'nothing',\n",
       " 'AUDI': 'nothing',\n",
       " 'TOYTOA': 'TOYOTA'}"
      ]
     },
     "execution_count": 111,
     "metadata": {},
     "output_type": "execute_result"
    }
   ],
   "source": [
    "d"
   ]
  },
  {
   "cell_type": "code",
   "execution_count": 112,
   "metadata": {
    "collapsed": true
   },
   "outputs": [],
   "source": [
    "tow['new_make'] = tow.Make.map(d)"
   ]
  },
  {
   "cell_type": "code",
   "execution_count": 118,
   "metadata": {},
   "outputs": [],
   "source": [
    "from twython import Twython"
   ]
  }
 ],
 "metadata": {
  "kernelspec": {
   "display_name": "Python 3",
   "language": "python",
   "name": "python3"
  },
  "language_info": {
   "codemirror_mode": {
    "name": "ipython",
    "version": 3
   },
   "file_extension": ".py",
   "mimetype": "text/x-python",
   "name": "python",
   "nbconvert_exporter": "python",
   "pygments_lexer": "ipython3",
   "version": "3.6.1"
  }
 },
 "nbformat": 4,
 "nbformat_minor": 2
}
