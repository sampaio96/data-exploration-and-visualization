{
 "cells": [
  {
   "cell_type": "code",
   "execution_count": 1,
   "metadata": {
    "collapsed": true
   },
   "outputs": [],
   "source": [
    "import json\n",
    "import urllib.request\n",
    "import urllib.parse"
   ]
  },
  {
   "cell_type": "code",
   "execution_count": 18,
   "metadata": {
    "collapsed": true
   },
   "outputs": [],
   "source": [
    "url = \"http://api.setlist.fm/rest/0.1/search/setlists.json?\""
   ]
  },
  {
   "cell_type": "code",
   "execution_count": 28,
   "metadata": {
    "collapsed": true
   },
   "outputs": [],
   "source": [
    "args = \"countryCode=US&date=27-11-1996&cityName=New+York+City\""
   ]
  },
  {
   "cell_type": "code",
   "execution_count": 29,
   "metadata": {},
   "outputs": [],
   "source": [
    "rq = urllib.request.Request(url=url+args)\n",
    "f = urllib.request.urlopen(rq)"
   ]
  },
  {
   "cell_type": "code",
   "execution_count": 30,
   "metadata": {},
   "outputs": [
    {
     "name": "stdout",
     "output_type": "stream",
     "text": [
      "200\n"
     ]
    }
   ],
   "source": [
    "q = f.read().decode('utf-8')\n",
    "print(f.getcode())"
   ]
  },
  {
   "cell_type": "code",
   "execution_count": 31,
   "metadata": {},
   "outputs": [],
   "source": [
    "s = json.loads(q)"
   ]
  },
  {
   "cell_type": "code",
   "execution_count": 32,
   "metadata": {},
   "outputs": [
    {
     "data": {
      "text/plain": [
       "{'setlists': {'@itemsPerPage': '20',\n",
       "  '@page': '1',\n",
       "  '@total': '4',\n",
       "  'setlist': [{'@eventDate': '27-11-1996',\n",
       "    '@id': '13ca6dc1',\n",
       "    '@lastUpdated': '2015-02-15T12:37:21.000+0000',\n",
       "    '@versionId': 'b80c59e',\n",
       "    'artist': {'@disambiguation': '',\n",
       "     '@mbid': 'bf659d74-0b61-488c-8a7d-594f43bed9e0',\n",
       "     '@name': 'Bo Diddley',\n",
       "     '@sortName': 'Diddley, Bo',\n",
       "     'url': 'http://www.setlist.fm/setlists/bo-diddley-5bd6b71c.html'},\n",
       "    'sets': '',\n",
       "    'url': 'http://www.setlist.fm/setlist/bo-diddley/1996/the-bottom-line-new-york-ny-13ca6dc1.html',\n",
       "    'venue': {'@id': '13d6cd4d',\n",
       "     '@name': 'The Bottom Line',\n",
       "     'city': {'@id': '5128581',\n",
       "      '@name': 'New York',\n",
       "      '@state': 'New York',\n",
       "      '@stateCode': 'NY',\n",
       "      'coords': {'@lat': '40.7142691', '@long': '-74.0059729'},\n",
       "      'country': {'@code': 'US', '@name': 'United States'}},\n",
       "     'url': 'http://www.setlist.fm/venue/the-bottom-line-new-york-ny-usa-13d6cd4d.html'}},\n",
       "   {'@eventDate': '27-11-1996',\n",
       "    '@id': '13d1d9a1',\n",
       "    '@lastUpdated': '2011-11-23T01:52:38.000+0000',\n",
       "    '@versionId': '73c24699',\n",
       "    'artist': {'@disambiguation': '',\n",
       "     '@mbid': '8c32bb01-58a3-453b-8050-8c0620edb0e5',\n",
       "     '@name': 'Stone Temple Pilots',\n",
       "     '@sortName': 'Stone Temple Pilots',\n",
       "     '@tmid': '752624',\n",
       "     'url': 'http://www.setlist.fm/setlists/stone-temple-pilots-bd6b9ee.html'},\n",
       "    'sets': {'set': {'@name': 'Acoustic',\n",
       "      'song': [{'@name': 'Dancing Days',\n",
       "        'cover': {'@disambiguation': '',\n",
       "         '@mbid': '678d88b2-87b0-403b-b63d-5da7465aecc3',\n",
       "         '@name': 'Led Zeppelin',\n",
       "         '@sortName': 'Led Zeppelin',\n",
       "         '@tmid': '915807',\n",
       "         'url': 'http://www.setlist.fm/setlists/led-zeppelin-13d6b509.html'}},\n",
       "       {'@name': 'Seven Caged Tigers'}]}},\n",
       "    'url': 'http://www.setlist.fm/setlist/stone-temple-pilots/1996/howard-stern-radio-program-new-york-ny-13d1d9a1.html',\n",
       "    'venue': {'@id': '3d62d37',\n",
       "     '@name': 'Howard Stern Radio Program',\n",
       "     'city': {'@id': '5128581',\n",
       "      '@name': 'New York',\n",
       "      '@state': 'New York',\n",
       "      '@stateCode': 'NY',\n",
       "      'coords': {'@lat': '40.7142691', '@long': '-74.0059729'},\n",
       "      'country': {'@code': 'US', '@name': 'United States'}},\n",
       "     'url': 'http://www.setlist.fm/venue/howard-stern-radio-program-new-york-ny-usa-3d62d37.html'}},\n",
       "   {'@eventDate': '27-11-1996',\n",
       "    '@id': '2bde34ee',\n",
       "    '@lastUpdated': '2015-07-20T13:51:59.000+0000',\n",
       "    '@tour': 'Purpendicular',\n",
       "    '@versionId': '53b59fa1',\n",
       "    'artist': {'@disambiguation': 'English rock band',\n",
       "     '@mbid': '79491354-3d83-40e3-9d8e-7592d58d790a',\n",
       "     '@name': 'Deep Purple',\n",
       "     '@sortName': 'Deep Purple',\n",
       "     '@tmid': '734897',\n",
       "     'url': 'http://www.setlist.fm/setlists/deep-purple-3bd6acc8.html'},\n",
       "    'sets': {'set': [{'song': [{'@name': 'Hush',\n",
       "         'cover': {'@disambiguation': '',\n",
       "          '@mbid': '399fc572-6f08-4dee-b5fc-213c8a4d050b',\n",
       "          '@name': 'Joe South',\n",
       "          '@sortName': 'South, Joe',\n",
       "          'url': 'http://www.setlist.fm/setlists/joe-south-63d656eb.html'}},\n",
       "        {'@name': 'Fireball'},\n",
       "        {'@name': 'Vavoom: Ted the Mechanic'},\n",
       "        {'@name': 'Pictures of Home'},\n",
       "        {'@name': \"Cascades: I'm Not Your Lover\"},\n",
       "        {'@name': 'Woman From Tokyo'},\n",
       "        {'@name': \"Rosa's Cantina\"},\n",
       "        {'@name': 'No One Came'},\n",
       "        {'@name': 'Smoke on the Water'},\n",
       "        {'@name': 'When a Blind Man Cries'},\n",
       "        {'@name': 'Speed King'}]},\n",
       "      {'@encore': '1',\n",
       "       'song': [{'@name': 'Perfect Strangers'},\n",
       "        {'@name': 'Hey Cisco'},\n",
       "        {'@name': 'Highway Star'}]}]},\n",
       "    'url': 'http://www.setlist.fm/setlist/deep-purple/1996/beacon-theatre-new-york-ny-2bde34ee.html',\n",
       "    'venue': {'@id': 'bd6c9ba',\n",
       "     '@name': 'Beacon Theatre',\n",
       "     'city': {'@id': '5128581',\n",
       "      '@name': 'New York',\n",
       "      '@state': 'New York',\n",
       "      '@stateCode': 'NY',\n",
       "      'coords': {'@lat': '40.7142691', '@long': '-74.0059729'},\n",
       "      'country': {'@code': 'US', '@name': 'United States'}},\n",
       "     'url': 'http://www.setlist.fm/venue/beacon-theatre-new-york-ny-usa-bd6c9ba.html'}},\n",
       "   {'@eventDate': '27-11-1996',\n",
       "    '@id': '33d75ced',\n",
       "    '@lastUpdated': '2010-02-07T16:29:56.000+0000',\n",
       "    '@versionId': '3d32913',\n",
       "    'artist': {'@disambiguation': 'US rock band fronted by Jakob Dylan',\n",
       "     '@mbid': 'd9c90718-d54d-4ccf-a92e-37a5415ce299',\n",
       "     '@name': 'The Wallflowers',\n",
       "     '@sortName': 'Wallflowers, The',\n",
       "     '@tmid': '750506',\n",
       "     'url': 'http://www.setlist.fm/setlists/the-wallflowers-7bd6b60c.html'},\n",
       "    'sets': '',\n",
       "    'url': 'http://www.setlist.fm/setlist/the-wallflowers/1996/supper-club-new-york-ny-33d75ced.html',\n",
       "    'venue': {'@id': '5bd61fe0',\n",
       "     '@name': 'Supper Club',\n",
       "     'city': {'@id': '5128581',\n",
       "      '@name': 'New York',\n",
       "      '@state': 'New York',\n",
       "      '@stateCode': 'NY',\n",
       "      'coords': {'@lat': '40.7142691', '@long': '-74.0059729'},\n",
       "      'country': {'@code': 'US', '@name': 'United States'}},\n",
       "     'url': 'http://www.setlist.fm/venue/supper-club-new-york-ny-usa-5bd61fe0.html'}}]}}"
      ]
     },
     "execution_count": 32,
     "metadata": {},
     "output_type": "execute_result"
    }
   ],
   "source": [
    "s"
   ]
  },
  {
   "cell_type": "code",
   "execution_count": 33,
   "metadata": {},
   "outputs": [
    {
     "data": {
      "text/plain": [
       "dict_keys(['@itemsPerPage', '@page', '@total', 'setlist'])"
      ]
     },
     "execution_count": 33,
     "metadata": {},
     "output_type": "execute_result"
    }
   ],
   "source": [
    "s['setlists'].keys()"
   ]
  },
  {
   "cell_type": "code",
   "execution_count": 36,
   "metadata": {},
   "outputs": [
    {
     "data": {
      "text/plain": [
       "list"
      ]
     },
     "execution_count": 36,
     "metadata": {},
     "output_type": "execute_result"
    }
   ],
   "source": [
    "type(s['setlists']['setlist'])"
   ]
  },
  {
   "cell_type": "code",
   "execution_count": 37,
   "metadata": {},
   "outputs": [
    {
     "data": {
      "text/plain": [
       "dict"
      ]
     },
     "execution_count": 37,
     "metadata": {},
     "output_type": "execute_result"
    }
   ],
   "source": [
    "type(s['setlists']['setlist'][0])"
   ]
  },
  {
   "cell_type": "code",
   "execution_count": 38,
   "metadata": {},
   "outputs": [
    {
     "data": {
      "text/plain": [
       "dict_keys(['@eventDate', '@id', '@lastUpdated', '@versionId', 'artist', 'venue', 'sets', 'url'])"
      ]
     },
     "execution_count": 38,
     "metadata": {},
     "output_type": "execute_result"
    }
   ],
   "source": [
    "s['setlists']['setlist'][0].keys()"
   ]
  },
  {
   "cell_type": "code",
   "execution_count": 43,
   "metadata": {},
   "outputs": [
    {
     "name": "stdout",
     "output_type": "stream",
     "text": [
      "{'@disambiguation': '', '@mbid': 'bf659d74-0b61-488c-8a7d-594f43bed9e0', '@name': 'Bo Diddley', '@sortName': 'Diddley, Bo', 'url': 'http://www.setlist.fm/setlists/bo-diddley-5bd6b71c.html'}\n"
     ]
    }
   ],
   "source": [
    "print(s['setlists']['setlist'][0]['artist'])"
   ]
  },
  {
   "cell_type": "code",
   "execution_count": 44,
   "metadata": {},
   "outputs": [
    {
     "data": {
      "text/plain": [
       "'Bo Diddley'"
      ]
     },
     "execution_count": 44,
     "metadata": {},
     "output_type": "execute_result"
    }
   ],
   "source": [
    "s['setlists']['setlist'][0]['artist']['@name']"
   ]
  },
  {
   "cell_type": "code",
   "execution_count": 46,
   "metadata": {},
   "outputs": [
    {
     "data": {
      "text/plain": [
       "4"
      ]
     },
     "execution_count": 46,
     "metadata": {},
     "output_type": "execute_result"
    }
   ],
   "source": [
    "len(s['setlists']['setlist'])"
   ]
  },
  {
   "cell_type": "code",
   "execution_count": 58,
   "metadata": {},
   "outputs": [
    {
     "name": "stdout",
     "output_type": "stream",
     "text": [
      "Bo Diddley\n",
      "The Bottom Line\n",
      "Stone Temple Pilots\n",
      "Howard Stern Radio Program\n",
      "Deep Purple\n",
      "Beacon Theatre\n",
      "The Wallflowers\n",
      "Supper Club\n"
     ]
    }
   ],
   "source": [
    "for i in range (0, 4):\n",
    "    print(s['setlists']['setlist'][i]['artist']['@name'])\n",
    "    print(s['setlists']['setlist'][i]['venue']['@name'])"
   ]
  },
  {
   "cell_type": "code",
   "execution_count": 59,
   "metadata": {},
   "outputs": [
    {
     "ename": "ModuleNotFoundError",
     "evalue": "No module named 'numpy'",
     "output_type": "error",
     "traceback": [
      "\u001b[0;31m---------------------------------------------------------------------------\u001b[0m",
      "\u001b[0;31mModuleNotFoundError\u001b[0m                       Traceback (most recent call last)",
      "\u001b[0;32m<ipython-input-59-4ee716103900>\u001b[0m in \u001b[0;36m<module>\u001b[0;34m()\u001b[0m\n\u001b[0;32m----> 1\u001b[0;31m \u001b[0;32mimport\u001b[0m \u001b[0mnumpy\u001b[0m \u001b[0;32mas\u001b[0m \u001b[0mnp\u001b[0m\u001b[0;34m\u001b[0m\u001b[0m\n\u001b[0m",
      "\u001b[0;31mModuleNotFoundError\u001b[0m: No module named 'numpy'"
     ]
    }
   ],
   "source": [
    "import numpy as np"
   ]
  },
  {
   "cell_type": "code",
   "execution_count": null,
   "metadata": {
    "collapsed": true
   },
   "outputs": [],
   "source": []
  },
  {
   "cell_type": "code",
   "execution_count": null,
   "metadata": {
    "collapsed": true
   },
   "outputs": [],
   "source": []
  },
  {
   "cell_type": "code",
   "execution_count": null,
   "metadata": {
    "collapsed": true
   },
   "outputs": [],
   "source": []
  },
  {
   "cell_type": "code",
   "execution_count": null,
   "metadata": {
    "collapsed": true
   },
   "outputs": [],
   "source": []
  },
  {
   "cell_type": "code",
   "execution_count": null,
   "metadata": {
    "collapsed": true
   },
   "outputs": [],
   "source": []
  },
  {
   "cell_type": "code",
   "execution_count": null,
   "metadata": {
    "collapsed": true
   },
   "outputs": [],
   "source": []
  }
 ],
 "metadata": {
  "kernelspec": {
   "display_name": "Python 3",
   "language": "python",
   "name": "python3"
  },
  "language_info": {
   "codemirror_mode": {
    "name": "ipython",
    "version": 3
   },
   "file_extension": ".py",
   "mimetype": "text/x-python",
   "name": "python",
   "nbconvert_exporter": "python",
   "pygments_lexer": "ipython3",
   "version": "3.6.1"
  }
 },
 "nbformat": 4,
 "nbformat_minor": 2
}
